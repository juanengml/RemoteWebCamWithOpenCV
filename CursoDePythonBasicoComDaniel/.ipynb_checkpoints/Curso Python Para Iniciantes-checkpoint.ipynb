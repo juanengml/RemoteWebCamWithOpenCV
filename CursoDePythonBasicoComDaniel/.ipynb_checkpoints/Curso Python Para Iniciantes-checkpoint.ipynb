{
 "cells": [
  {
   "cell_type": "markdown",
   "metadata": {},
   "source": [
    "## primeiro comando\n",
    "\n"
   ]
  },
  {
   "cell_type": "code",
   "execution_count": 5,
   "metadata": {},
   "outputs": [
    {
     "name": "stdout",
     "output_type": "stream",
     "text": [
      "Sao 4 horas,seu nome é daniel,vc trabalhou ate o dia 30, vc so pode trabalhor 8 horas por dia\n"
     ]
    }
   ],
   "source": [
    "valorhora = 4\n",
    "dias = 30 \n",
    "horasdetrabalho = 8\n",
    "vencimento = valorhora * horasdetrabalho * diass\n",
    "name = \"daniel\"\n",
    "\n",
    "print('Sao {} horas,seu nome é {},vc trabalhou ate o dia {}, vc so pode trabalhor {} horas por dia'.format(valorhora, name, dias, horasdetrabalho))"
   ]
  },
  {
   "cell_type": "markdown",
   "metadata": {},
   "source": [
    "## IF e ELSE"
   ]
  },
  {
   "cell_type": "code",
   "execution_count": 11,
   "metadata": {},
   "outputs": [
    {
     "name": "stdout",
     "output_type": "stream",
     "text": [
      "numero e igual a 1\n"
     ]
    }
   ],
   "source": [
    "numero = 1\n",
    "if (numero==1):\n",
    "    print(\"numero e igual a 1\")\n",
    "else:\n",
    "    print(\"numero nao e igual a 1\")"
   ]
  },
  {
   "cell_type": "code",
   "execution_count": 14,
   "metadata": {},
   "outputs": [
    {
     "name": "stdout",
     "output_type": "stream",
     "text": [
      "nao tem a letra Z\n"
     ]
    }
   ],
   "source": [
    "nome = \"daniel\"\n",
    "if (\"z\" in nome):\n",
    "    print('tem uma letra Z no meu nome!!!')\n",
    "else:\n",
    "    print('nao tem a letra Z')"
   ]
  },
  {
   "cell_type": "code",
   "execution_count": null,
   "metadata": {},
   "outputs": [],
   "source": []
  }
 ],
 "metadata": {
  "kernelspec": {
   "display_name": "Python 3",
   "language": "python",
   "name": "python3"
  },
  "language_info": {
   "codemirror_mode": {
    "name": "ipython",
    "version": 3
   },
   "file_extension": ".py",
   "mimetype": "text/x-python",
   "name": "python",
   "nbconvert_exporter": "python",
   "pygments_lexer": "ipython3",
   "version": "3.6.7"
  }
 },
 "nbformat": 4,
 "nbformat_minor": 2
}
