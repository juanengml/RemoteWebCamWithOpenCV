{
 "cells": [
  {
   "cell_type": "code",
   "execution_count": 2,
   "metadata": {},
   "outputs": [],
   "source": [
    "import cv2 \n",
    "from matplotlib import pyplot as plt\n"
   ]
  },
  {
   "cell_type": "code",
   "execution_count": 3,
   "metadata": {},
   "outputs": [],
   "source": [
    "def showImage(imagem):\n",
    " plt.imshow(imagem)\n",
    " plt.title('my picture')\n",
    " plt.show()"
   ]
  },
  {
   "cell_type": "code",
   "execution_count": 4,
   "metadata": {},
   "outputs": [],
   "source": [
    "classificadorFace =  cv2.CascadeClassifier('cascades/haarcascade_frontalface_default.xml')\n",
    "classificadorOlhos = cv2.CascadeClassifier('cascades/haarcascade_eye.xml')"
   ]
  },
  {
   "cell_type": "code",
   "execution_count": 5,
   "metadata": {},
   "outputs": [],
   "source": [
    "imagem = cv2.imread('pessoas/beatles.jpg')"
   ]
  },
  {
   "cell_type": "code",
   "execution_count": 6,
   "metadata": {},
   "outputs": [],
   "source": [
    "imagemcinza = cv2.cvtColor(imagem, cv2.COLOR_BGR2GRAY)\n",
    "#imagemCinza = cv2.cvtColor(imagem, cv2.COLOR_BGR2GRAY)"
   ]
  },
  {
   "cell_type": "code",
   "execution_count": 7,
   "metadata": {},
   "outputs": [],
   "source": [
    "facesDetectadas = classificadorFace.detectMultiScale(imagemcinza)\n",
    "#facesDetectadas = classificadorFace.detectMultiScale(imagemCinza)"
   ]
  },
  {
   "cell_type": "code",
   "execution_count": 9,
   "metadata": {},
   "outputs": [
    {
     "name": "stdout",
     "output_type": "stream",
     "text": [
      "[[59 25 23 23]]\n",
      "[[21 29 21 21]\n",
      " [58 26 24 24]]\n",
      "[[54 26 20 20]\n",
      " [16 20 22 22]]\n",
      "[[64 36 21 21]]\n"
     ]
    },
    {
     "data": {
      "text/plain": [
       "233"
      ]
     },
     "execution_count": 9,
     "metadata": {},
     "output_type": "execute_result"
    }
   ],
   "source": [
    "for (x, y, l, a) in  facesDetectadas:\n",
    "    imagem = cv2.rectangle(imagem, (x, y), (x + l, y + a), (0, 0, 2005, 2))\n",
    "    regiao = imagem[y:y + a, x:x + l]\n",
    "    regiaocinza = cv2.cvtColor(regiao, cv2.COLOR_BGR2GRAY)\n",
    "    olhosdetectados = classificadorOlhos.detectMultiScale(regiaocinza, scaleFactor=1.1, minNeighbors=2)\n",
    "    print(olhosdetectados)\n",
    "    \n",
    "    for(ox, oy, ol, oa) in olhosdetectados:\n",
    "        cv2.rectangle(regiao, (ox, oy), (ox + ol, oy + oa), (255, 0 ,255))\n",
    "    \n",
    "cv2.imshow(\"Faces e olhos detectados\", imagem)\n",
    "cv2.waitKey()"
   ]
  },
  {
   "cell_type": "code",
   "execution_count": null,
   "metadata": {},
   "outputs": [],
   "source": [
    "showImage(imagem)"
   ]
  },
  {
   "cell_type": "markdown",
   "metadata": {},
   "source": [
    "## detecçao de rosto pela webcamcam"
   ]
  },
  {
   "cell_type": "code",
   "execution_count": 4,
   "metadata": {},
   "outputs": [],
   "source": [
    "import cv2 "
   ]
  },
  {
   "cell_type": "code",
   "execution_count": 5,
   "metadata": {},
   "outputs": [],
   "source": [
    "video = cv2.VideoCapture(0)\n",
    "classificadorFace = cv2.CascadeClassifier(\"cascades/haarcascade_frontalface_default.xml\")"
   ]
  },
  {
   "cell_type": "code",
   "execution_count": 6,
   "metadata": {},
   "outputs": [],
   "source": [
    "\n",
    "while True:\n",
    "   conectado, frame = video.read()\n",
    "   framecinza = cv2.cvtColor(frame, cv2.COLOR_BGR2GRAY)\n",
    "   facesdetectadas = classificadorFace.detectMultiScale(framecinza, minSize=(70,70))\n",
    "   for (x, y, l, a) in facesdetectadas:\n",
    "     cv2.rectangle(frame, (x, y), (x + l, y + a), (0, 0, 255), 2)\n",
    "   cv2.imshow('video', frame)\n",
    "    \n",
    "   if cv2.waitKey(1) == ord('q'):\n",
    "        break\n",
    "        \n",
    "video.release()\n",
    "cv2.destroyAllWindows()"
   ]
  },
  {
   "cell_type": "markdown",
   "metadata": {},
   "source": [
    "## Outros Detects"
   ]
  },
  {
   "cell_type": "code",
   "execution_count": 1,
   "metadata": {},
   "outputs": [
    {
     "name": "stdout",
     "output_type": "stream",
     "text": [
      "outros/carro1.jpg  outros/gato1.jpg  outros/relogio1.jpg\r\n",
      "outros/carro2.jpg  outros/gato2.jpg  outros/relogio2.jpg\r\n",
      "outros/carro3.jpg  outros/gato3.jpg  outros/relogio3.jpg\r\n"
     ]
    }
   ],
   "source": [
    "!ls outros/*"
   ]
  },
  {
   "cell_type": "code",
   "execution_count": null,
   "metadata": {},
   "outputs": [],
   "source": [
    "import cv2\n",
    "\n",
    "classificadorgato = cv2.CascadeClassifier('cascades/haarcascade_frontalcatface.xml')\n",
    "\n",
    "imagem = cv2.imread('outros/gato1.jpg')\n",
    "imagemcinza = cv2.cvtColor(imagem, cv2.COLOR_BGR2GRAY)\n",
    "\n",
    "detectado = classificadorgato.detectMultiScale(imagemcinza)\n",
    "\n",
    "for(x, y, l, a) in detectado:\n",
    "    imagem = cv2.rectangle(imagem,(x, y), (x + l, y + a), (255, 0, 0), 2)\n",
    "    \n",
    "\n",
    "cv2.imshow(\"encontraddo\", imagem)\n",
    "cv2.waitKey()"
   ]
  },
  {
   "cell_type": "code",
   "execution_count": null,
   "metadata": {},
   "outputs": [],
   "source": []
  },
  {
   "cell_type": "code",
   "execution_count": null,
   "metadata": {},
   "outputs": [],
   "source": []
  },
  {
   "cell_type": "markdown",
   "metadata": {},
   "source": [
    "##   deteccao cascadesde carross\n"
   ]
  },
  {
   "cell_type": "code",
   "execution_count": null,
   "metadata": {},
   "outputs": [],
   "source": [
    "import cv2\n",
    "\n",
    "classificadorgato = cv2.CascadeClassifier('cascades/cars.xml')\n",
    "\n",
    "imagem = cv2.imread('outros/carro1.jpg')\n",
    "imagemcinza = cv2.cvtColor(imagem, cv2.COLOR_BGR2GRAY)\n",
    "\n",
    "detectado = classificadorgato.detectMultiScale(imagemcinza, scaleFactor=1.04)\n",
    "\n",
    "for(x, y, l, a) in detectado:\n",
    "    imagem = cv2.rectangle(imagem,(x, y), (x + l, y + a), (255, 0, 0), 2)\n",
    "    \n",
    "\n",
    "cv2.imshow(\"encontraddo\", imagem)\n",
    "cv2.waitKey()"
   ]
  },
  {
   "cell_type": "code",
   "execution_count": null,
   "metadata": {},
   "outputs": [],
   "source": []
  }
 ],
 "metadata": {
  "kernelspec": {
   "display_name": "Python 2",
   "language": "python",
   "name": "python2"
  },
  "language_info": {
   "codemirror_mode": {
    "name": "ipython",
    "version": 2
   },
   "file_extension": ".py",
   "mimetype": "text/x-python",
   "name": "python",
   "nbconvert_exporter": "python",
   "pygments_lexer": "ipython2",
   "version": "2.7.15rc1"
  }
 },
 "nbformat": 4,
 "nbformat_minor": 2
}
